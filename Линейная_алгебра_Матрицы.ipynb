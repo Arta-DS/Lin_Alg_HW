{
  "nbformat": 4,
  "nbformat_minor": 0,
  "metadata": {
    "colab": {
      "provenance": [],
      "authorship_tag": "ABX9TyM6Oo+e5YM3lgmnPDlilV1H",
      "include_colab_link": true
    },
    "kernelspec": {
      "name": "python3",
      "display_name": "Python 3"
    },
    "language_info": {
      "name": "python"
    }
  },
  "cells": [
    {
      "cell_type": "markdown",
      "metadata": {
        "id": "view-in-github",
        "colab_type": "text"
      },
      "source": [
        "<a href=\"https://colab.research.google.com/github/Arta-DS/Lin_Alg_HW/blob/main/%D0%9B%D0%B8%D0%BD%D0%B5%D0%B9%D0%BD%D0%B0%D1%8F_%D0%B0%D0%BB%D0%B3%D0%B5%D0%B1%D1%80%D0%B0_%D0%9C%D0%B0%D1%82%D1%80%D0%B8%D1%86%D1%8B.ipynb\" target=\"_parent\"><img src=\"https://colab.research.google.com/assets/colab-badge.svg\" alt=\"Open In Colab\"/></a>"
      ]
    },
    {
      "cell_type": "markdown",
      "source": [
        "**Задание 1**\n",
        "\n",
        "*   Создайте матрицу 3 на 3, заполненную числами от 1 до 9\n",
        "\n",
        "*   Прибавьте к ней матрицу с единицами на диагонали\n",
        "\n",
        "*   Умножьте полученную матрицу на вектор (1, 2, 3)\n",
        "\n",
        "*   Вычислите транспонированную матрицу от полученной в результате прибавления матрицы\n",
        "\n",
        "*   Посчитайте обратную матрицу к полученной в результате прибавления матрице"
      ],
      "metadata": {
        "id": "EH1yrpFbB-dR"
      }
    },
    {
      "cell_type": "code",
      "execution_count": 25,
      "metadata": {
        "colab": {
          "base_uri": "https://localhost:8080/"
        },
        "id": "Zo7v4qzjiSGv",
        "outputId": "54cbf6f5-3014-4d6b-a723-cdf19ebbe633"
      },
      "outputs": [
        {
          "output_type": "execute_result",
          "data": {
            "text/plain": [
              "array([[1, 2, 3],\n",
              "       [4, 5, 6],\n",
              "       [7, 8, 9]])"
            ]
          },
          "metadata": {},
          "execution_count": 25
        }
      ],
      "source": [
        "import numpy as np\n",
        "\n",
        "matrix = np.arange(1, 10).reshape(3,3)\n",
        "matrix"
      ]
    },
    {
      "cell_type": "code",
      "source": [
        " matrix_diag = np.eye(3)\n",
        " matrix_diag"
      ],
      "metadata": {
        "colab": {
          "base_uri": "https://localhost:8080/"
        },
        "id": "qd49Eirr_1Vz",
        "outputId": "397d385d-98a0-4dda-8a97-b0d62f9ed75a"
      },
      "execution_count": 26,
      "outputs": [
        {
          "output_type": "execute_result",
          "data": {
            "text/plain": [
              "array([[1., 0., 0.],\n",
              "       [0., 1., 0.],\n",
              "       [0., 0., 1.]])"
            ]
          },
          "metadata": {},
          "execution_count": 26
        }
      ]
    },
    {
      "cell_type": "code",
      "source": [
        "sum_matrix = np.add(matrix, matrix_diag)\n",
        "sum_matrix"
      ],
      "metadata": {
        "colab": {
          "base_uri": "https://localhost:8080/"
        },
        "id": "97iMdGzC95ML",
        "outputId": "5d1e2b98-895f-41d8-9bed-5af0e36bb0ce"
      },
      "execution_count": 27,
      "outputs": [
        {
          "output_type": "execute_result",
          "data": {
            "text/plain": [
              "array([[ 2.,  2.,  3.],\n",
              "       [ 4.,  6.,  6.],\n",
              "       [ 7.,  8., 10.]])"
            ]
          },
          "metadata": {},
          "execution_count": 27
        }
      ]
    },
    {
      "cell_type": "code",
      "source": [
        "vector = np.array([1, 2, 3])\n",
        "vector"
      ],
      "metadata": {
        "colab": {
          "base_uri": "https://localhost:8080/"
        },
        "id": "qIfDZgNaBZcU",
        "outputId": "e8d233d1-4101-4780-99cb-89850db1c8f7"
      },
      "execution_count": 28,
      "outputs": [
        {
          "output_type": "execute_result",
          "data": {
            "text/plain": [
              "array([1, 2, 3])"
            ]
          },
          "metadata": {},
          "execution_count": 28
        }
      ]
    },
    {
      "cell_type": "code",
      "source": [
        "np.dot(sum_matrix, vector)"
      ],
      "metadata": {
        "colab": {
          "base_uri": "https://localhost:8080/"
        },
        "id": "lu-tU6eX87Ke",
        "outputId": "4ecf8fd4-485a-4ac0-f894-2dd4b8199f43"
      },
      "execution_count": 29,
      "outputs": [
        {
          "output_type": "execute_result",
          "data": {
            "text/plain": [
              "array([15., 34., 53.])"
            ]
          },
          "metadata": {},
          "execution_count": 29
        }
      ]
    },
    {
      "cell_type": "code",
      "source": [
        "transpose_matrix = sum_matrix.T\n",
        "transpose_matrix"
      ],
      "metadata": {
        "colab": {
          "base_uri": "https://localhost:8080/"
        },
        "id": "4_D-6cpX9yLX",
        "outputId": "e9f76937-505b-44c6-8a2e-319594e26b88"
      },
      "execution_count": 30,
      "outputs": [
        {
          "output_type": "execute_result",
          "data": {
            "text/plain": [
              "array([[ 2.,  4.,  7.],\n",
              "       [ 2.,  6.,  8.],\n",
              "       [ 3.,  6., 10.]])"
            ]
          },
          "metadata": {},
          "execution_count": 30
        }
      ]
    },
    {
      "cell_type": "code",
      "source": [
        "inverse_matrix = np.linalg.inv(sum_matrix)\n",
        "inverse_matrix"
      ],
      "metadata": {
        "colab": {
          "base_uri": "https://localhost:8080/"
        },
        "id": "i_qFSAa2BcS_",
        "outputId": "462e356c-2821-4476-d791-698532411dd4"
      },
      "execution_count": 31,
      "outputs": [
        {
          "output_type": "execute_result",
          "data": {
            "text/plain": [
              "array([[-6.00000000e+00, -2.00000000e+00,  3.00000000e+00],\n",
              "       [-1.00000000e+00,  5.00000000e-01, -2.33146835e-16],\n",
              "       [ 5.00000000e+00,  1.00000000e+00, -2.00000000e+00]])"
            ]
          },
          "metadata": {},
          "execution_count": 31
        }
      ]
    },
    {
      "cell_type": "markdown",
      "source": [
        "**Задание 2**\n",
        "\n",
        "Найдите собственные значения и собственные вектора матрицы:\n",
        "\n",
        "```\n",
        "m = np.array([[2, 2],\n",
        "              [1, 3]])\n",
        "print(m)\n",
        "```\n",
        "\n"
      ],
      "metadata": {
        "id": "r_MU2nXLCvrn"
      }
    },
    {
      "cell_type": "code",
      "source": [
        "m = np.array([[2, 2],\n",
        "              [1, 3]])\n",
        "\n",
        "w, v = np.linalg.eig(m)\n",
        "print (\"Матрица A:\\n\", m)\n",
        "print (\"Собственные числа:\\n\", w)\n",
        "print (\"Собственные векторы:\\n\", v)"
      ],
      "metadata": {
        "colab": {
          "base_uri": "https://localhost:8080/"
        },
        "id": "sjQCz7pJC7YJ",
        "outputId": "0f90a253-2e45-4ff7-ddf7-b5286fe1e3a2"
      },
      "execution_count": 32,
      "outputs": [
        {
          "output_type": "stream",
          "name": "stdout",
          "text": [
            "Матрица A:\n",
            " [[2 2]\n",
            " [1 3]]\n",
            "Собственные числа:\n",
            " [1. 4.]\n",
            "Собственные векторы:\n",
            " [[-0.89442719 -0.70710678]\n",
            " [ 0.4472136  -0.70710678]]\n"
          ]
        }
      ]
    },
    {
      "cell_type": "markdown",
      "source": [
        "**Задание 3**\n",
        "\n",
        "Придумайте матрицу, у которой определитель = 1, и все элементы не равны 0.\n",
        "\n",
        "P.S. Матрица должна быть ненулевой и размерностью не менее 2!"
      ],
      "metadata": {
        "id": "hbz-46iODMuA"
      }
    },
    {
      "cell_type": "code",
      "source": [
        "A = np.array([[1, 0], [0, 1]])\n",
        "\n",
        "# Проверяем определитель\n",
        "det_A = np.linalg.det(A)\n",
        "print(det_A)"
      ],
      "metadata": {
        "colab": {
          "base_uri": "https://localhost:8080/"
        },
        "id": "xykq3VuqDfoO",
        "outputId": "428ce4fe-ad0f-47c1-8cb7-b700510bb537"
      },
      "execution_count": 23,
      "outputs": [
        {
          "output_type": "stream",
          "name": "stdout",
          "text": [
            "1.0\n"
          ]
        }
      ]
    },
    {
      "cell_type": "code",
      "source": [
        "det = 0\n",
        "\n",
        "while det != 1:\n",
        "    a = np.random.randint(-10,10,(3,3))\n",
        "    det=np.linalg.det(a)\n",
        "\n",
        "print('искомая матрица: \\n',a)"
      ],
      "metadata": {
        "colab": {
          "base_uri": "https://localhost:8080/"
        },
        "id": "4rMjURKbgzDd",
        "outputId": "eb81b836-181a-4349-d68c-cf008479976c"
      },
      "execution_count": 33,
      "outputs": [
        {
          "output_type": "stream",
          "name": "stdout",
          "text": [
            "искомая матрица: \n",
            " [[ 1 -6  2]\n",
            " [ 5 -9  2]\n",
            " [ 8  2 -3]]\n"
          ]
        }
      ]
    }
  ]
}